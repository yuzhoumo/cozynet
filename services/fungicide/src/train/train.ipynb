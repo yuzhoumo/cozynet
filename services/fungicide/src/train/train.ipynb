{
 "cells": [
  {
   "cell_type": "code",
   "execution_count": 50,
   "id": "0a504835-a705-4c36-95d9-8e6c8af03ac5",
   "metadata": {},
   "outputs": [
    {
     "name": "stderr",
     "output_type": "stream",
     "text": [
      "[nltk_data] Downloading package words to /Users/ppanda/nltk_data...\n",
      "[nltk_data]   Package words is already up-to-date!\n"
     ]
    }
   ],
   "source": [
    "import os\n",
    "import json\n",
    "import re\n",
    "import nltk\n",
    "import spacy\n",
    "from sklearn.feature_extraction.text import TfidfVectorizer\n",
    "from sklearn.linear_model import LogisticRegression\n",
    "from sklearn.model_selection import train_test_split\n",
    "from sklearn.metrics import classification_report\n",
    "from sklearn.feature_extraction import text\n",
    "\n",
    "nltk.download('words')\n",
    "from nltk.corpus import words\n",
    "\n",
    "nlp = spacy.load(\"en_core_web_sm\", disable=[\"parser\", \"ner\"])\n",
    "ENGLISH_WORDS = set(words.words())"
   ]
  },
  {
   "cell_type": "code",
   "execution_count": 51,
   "id": "ad2a2b81-72cf-4d9b-82c5-ac44598bfbb9",
   "metadata": {},
   "outputs": [],
   "source": [
    "# --- Tokenizer ---\n",
    "def tokenize(text):\n",
    "    def in_dict(t, words):\n",
    "        for i in range(4, len(t)):\n",
    "            if t[:i] in words:\n",
    "                return True\n",
    "        return False\n",
    "    raw_tokens = re.findall(r'\\b\\w+\\b', text.lower())\n",
    "    tokens = [t for t in raw_tokens if all(c.isascii() and c.isalpha() for c in t) and in_dict(t, ENGLISH_WORDS)]\n",
    "    return [token.lemma_ for token in nlp(\" \".join(tokens))]\n",
    "\n",
    "# --- Process JSON ---\n",
    "def process_json_file(file_path):\n",
    "    with open(file_path, 'r', encoding='utf-8') as f:\n",
    "        data = json.load(f)\n",
    "    text_to_tokenize = []\n",
    "    for field in ['title', 'description', 'keywords', 'headings', 'content']:\n",
    "        if field in data:\n",
    "            if isinstance(data[field], list):\n",
    "                text_to_tokenize.extend(data[field])\n",
    "            elif isinstance(data[field], str):\n",
    "                text_to_tokenize.append(data[field])\n",
    "    combined_text = \" \".join(text_to_tokenize)\n",
    "    return \" \".join(tokenize(combined_text))\n",
    "\n",
    "# --- Load dataset ---\n",
    "def load_dataset(folder, label):\n",
    "    texts, labels = [], []\n",
    "    for domain_folder in os.listdir(folder):\n",
    "        domain_path = os.path.join(folder, domain_folder)\n",
    "        if not os.path.isdir(domain_path):\n",
    "            continue\n",
    "        for file_name in os.listdir(domain_path):\n",
    "            if file_name.endswith(\".json\"):\n",
    "                file_path = os.path.join(domain_path, file_name)\n",
    "                text = process_json_file(file_path)\n",
    "                if text.strip():  # only keep non-empty\n",
    "                    texts.append(text)\n",
    "                    labels.append(label)\n",
    "    return texts, labels"
   ]
  },
  {
   "cell_type": "code",
   "execution_count": null,
   "id": "ab83c4cc-ed73-4475-aece-5ac23698a624",
   "metadata": {},
   "outputs": [],
   "source": [
    "DEV_FOLDER = \"./mycelium/out\"\n",
    "NONDEV_FOLDER = \"./mycelium/out_neg\"\n",
    "\n",
    "def train():\n",
    "    dev_texts, dev_labels = load_dataset(DEV_FOLDER, 1)\n",
    "    nondev_texts, nondev_labels = load_dataset(NONDEV_FOLDER, 0)\n",
    "    \n",
    "    texts = dev_texts + nondev_texts\n",
    "    labels = dev_labels + nondev_labels\n",
    "    \n",
    "    # Vectorize\n",
    "    vectorizer = TfidfVectorizer(\n",
    "        max_features=10000,\n",
    "        ngram_range=(1,3),\n",
    "        min_df=2,   # ignore words appearing in only 1 doc\n",
    "        max_df=0.9, # ignore words appearing in 90% of docs\n",
    "        stop_words=list(text.ENGLISH_STOP_WORDS),\n",
    "    )\n",
    "\n",
    "    X = vectorizer.fit_transform(texts)\n",
    "    y = labels\n",
    "    \n",
    "    # Train/test split\n",
    "    X_train, X_test, y_train, y_test = train_test_split(X, y, test_size=0.2, random_state=42)\n",
    "    \n",
    "    # Train classifier\n",
    "    clf = LogisticRegression(max_iter=2000, C=10, solver=\"saga\")\n",
    "    clf.fit(X_train, y_train)\n",
    "\n",
    "    # Evaluate\n",
    "    y_pred = clf.predict(X_test)\n",
    "    print(classification_report(y_test, y_pred))\n",
    "\n",
    "    return clf, vectorizer\n",
    "\n",
    "clf, vectorizer = train()"
   ]
  },
  {
   "cell_type": "code",
   "execution_count": 49,
   "id": "bbc91468-e7c0-482a-9cb6-9dcefc47c8b4",
   "metadata": {},
   "outputs": [
    {
     "name": "stdout",
     "output_type": "stream",
     "text": [
      "Not a Dev Blog ❌\n",
      "Dev Blog ✅\n"
     ]
    }
   ],
   "source": [
    "# --- Classify a new JSON ---\n",
    "def classify_json(file_path, clf, vectorizer):\n",
    "    text = process_json_file(file_path)\n",
    "    X_new = vectorizer.transform([text])\n",
    "    pred = clf.predict(X_new)[0]\n",
    "    return \"Dev Blog ✅\" if pred == 1 else \"Not a Dev Blog ❌\"\n",
    "\n",
    "print(classify_json(\"./mycelium/out_neg/1clickvpn.net/7c4170d3-65bd-49f0-919c-d919b3367243.json\", clf, vectorizer))\n",
    "print(classify_json(\"./mycelium/out/odonnellweb.com/6eba3ec3-fea9-4025-be00-2e7672f98766.json\", clf, vectorizer))"
   ]
  },
  {
   "cell_type": "code",
   "execution_count": null,
   "id": "86ea1ec1-56d7-42f3-84fa-a45166033a20",
   "metadata": {},
   "outputs": [],
   "source": []
  }
 ],
 "metadata": {
  "kernelspec": {
   "display_name": "Python 3 (ipykernel)",
   "language": "python",
   "name": "python3"
  },
  "language_info": {
   "codemirror_mode": {
    "name": "ipython",
    "version": 3
   },
   "file_extension": ".py",
   "mimetype": "text/x-python",
   "name": "python",
   "nbconvert_exporter": "python",
   "pygments_lexer": "ipython3",
   "version": "3.13.5"
  }
 },
 "nbformat": 4,
 "nbformat_minor": 5
}
